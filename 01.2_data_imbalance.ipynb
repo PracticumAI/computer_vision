{
 "cells": [
  {
   "cell_type": "markdown",
   "metadata": {
    "tags": []
   },
   "source": [
    "![Practicum AI Logo image](https://github.com/PracticumAI/practicumai.github.io/blob/main/images/logo/PracticumAI_logo_250x50.png?raw=true) <img src='https://github.com/PracticumAI/deep_learning/blob/main/images/practicumai_deep_learning.png?raw=true' alt='Practicum AI: Deep Learning Foundations icon' align='right' width=50>\n",
    "***"
   ]
  },
  {
   "cell_type": "markdown",
   "metadata": {},
   "source": [
    "# Managing Class Imbalance in Data\n",
    "\n",
    "Kevin now understands CNNs and how they work, but his model is still not performing as well as he would like. He's been reading up on some techniques to improve his model's performance and is excited to try them out. \n",
    "\n",
    "In this notebook, we will explore two methods to help mitigate the issues that class imbalance poses: stratification and class weighting.\n",
    "\n",
    "* **Stratification:** Ensures that class frequencies are maintained when making the training and validation datasets. In extreme cases, minority classes can be totally absent from a sampled dataset. But even in the case of less extreme imbalances and larger datasets, stratification can ensure class distributions are the same and help the model train.\n",
    "\n",
    "* **Class weighting:** By default, the probability of any class is assumed to be equal when training a model. In the case of imbalanced classes, that can cause an issue. We can calculate per-class probabilities and use the class weights when training the model.\n",
    "\n",
    "\n",
    "One particularly good resource on this is topic is Ayush Thakur and Aritra Roy Gosthipaty's article [Simple Ways to Tackle Class Imbalance](https://wandb.ai/authors/class-imbalance/reports/Simple-Ways-to-Tackle-Class-Imbalance--VmlldzoxODA3NTk) (Thakur & Gosthipaty). We recommend reading it to learn more about addressing class imbalance in a dataset."
   ]
  },
  {
   "cell_type": "markdown",
   "metadata": {},
   "source": [
    "## 1. Import the libraries we will use"
   ]
  },
  {
   "cell_type": "code",
   "execution_count": 1,
   "metadata": {
    "tags": []
   },
   "outputs": [],
   "source": [
    "import tensorflow as tf   # Import the TensorFlow library, which provides tools for deep learning.\n",
    "import pandas as pd  # Import the pandas library, used for data manipulation and analysis.\n",
    "from sklearn.model_selection import train_test_split\n",
    "import datetime\n",
    "\n",
    "# Used for data management\n",
    "import requests\n",
    "import os\n",
    "import time\n",
    "import tarfile\n",
    "\n",
    "import matplotlib.pyplot as plt  # Import the matplotlib library for plotting and visualization.\n",
    "# This line allows for the display of plots directly within the Jupyter notebook interface.\n",
    "%matplotlib inline  \n",
    " \n",
    "# Import Keras libraries\n",
    "from tensorflow.keras.preprocessing.image import ImageDataGenerator  # Import the ImageDataGenerator class from Keras module in TensorFlow.\n",
    "from tensorflow.keras.models import Sequential  # Import the Sequential model: a linear stack of layers from Keras module in TensorFlow.\n",
    "from tensorflow.keras.layers import Dense  # Import the Dense layer: a fully connected neural network layer from Keras module in TensorFlow.\n",
    "from tensorflow.keras.layers import Flatten  # Import the Flatten layer: used to convert input data into a 1D array from Keras module in TensorFlow.\n",
    "from tensorflow.keras.losses import SparseCategoricalCrossentropy  # Import the SparseCategoricalCrossentropy loss function from Keras module in TensorFlow.\n",
    "from tensorflow.keras.utils import to_categorical\n",
    "from tensorflow.keras import layers \n",
    "from tensorflow.keras import losses\n",
    "from sklearn.metrics import confusion_matrix \n",
    "import numpy as np \n",
    "\n",
    "from sklearn.utils import class_weight\n",
    "\n",
    "# Import helper functions--most of these were in the cells of the DLF_03_bees_vs_wasps.ipynb notebook.\n",
    "# We moved them out of the notebook to enhance readability. \n",
    "import helpers_01\n",
    "\n",
    "# Load the TensorBoard notebook extension\n",
    "%load_ext tensorboard"
   ]
  },
  {
   "cell_type": "markdown",
   "metadata": {},
   "source": [
    "## 2. Exploring the data\n",
    "\n",
    "As before, we'll use our helper function `helpers_01.manage_data` to make sure we have the data and set the `data_path`.\n",
    "\n",
    "In the last notebook, Kevin noticed that his model had a big problem: it thought everything was wasps! Let's explore the data a bit and see if we can figure out why.\n",
    "\n",
    "First let's make a histogram of the number of images in each class. That should give us a good idea of how balanced the dataset is."
   ]
  },
  {
   "cell_type": "code",
   "execution_count": 2,
   "metadata": {
    "tags": []
   },
   "outputs": [
    {
     "name": "stdout",
     "output_type": "stream",
     "text": [
      "Found data at data/bee_vs_wasp.\n"
     ]
    }
   ],
   "source": [
    "# Chech for the data.\n",
    "data_path = helpers_01.manage_data() "
   ]
  },
  {
   "cell_type": "code",
   "execution_count": 3,
   "metadata": {
    "tags": []
   },
   "outputs": [
    {
     "name": "stdout",
     "output_type": "stream",
     "text": [
      "Category wasp: 4,943 images, or 43.3% of total images.\n",
      "Category bee: 3,184 images, or 27.9% of total images.\n",
      "Category other_insect: 2,439 images, or 21.4% of total images.\n",
      "Category other_noinsect: 856 images, or 7.5% of total images.\n",
      "************************************\n"
     ]
    },
    {
     "data": {
      "image/png": "[encoded data removed]",
      "text/plain": [
       "<Figure size 432x288 with 1 Axes>"
      ]
     },
     "metadata": {
      "needs_background": "light"
     },
     "output_type": "display_data"
    }
   ],
   "source": [
    "# Make a histogram of the number of images in each class\n",
    "def make_hist_get_max(data_path):\n",
    "    # Get the class names\n",
    "    class_names = os.listdir(data_path)\n",
    "\n",
    "    # Initialize an empty list to store the number of images in each class\n",
    "    num_images = []\n",
    "\n",
    "    # Loop through each class\n",
    "    for class_name in class_names:\n",
    "        # Get the list of images in the class\n",
    "        images = os.listdir(os.path.join(data_path, class_name))\n",
    "        # Append the number of images in the class to the list\n",
    "        num_images.append(len(images))\n",
    "\n",
    "    # Put the number of images in each class in descending order\n",
    "    num_images, class_names = zip(*sorted(zip(num_images, class_names), reverse=True))\n",
    "\n",
    "    total_images = sum(num_images)\n",
    "    \n",
    "    # Print the number of images in each class\n",
    "    for i in range(len(class_names)):\n",
    "        percentage = (num_images[i] / total_images) * 100\n",
    "        print(f'Category {class_names[i]}: {num_images[i]:,} images, or {percentage:.1f}% of total images.')\n",
    "\n",
    "    print(\"************************************\")       \n",
    "        \n",
    "    # Create a histogram of the number of images in each class\n",
    "    plt.bar(class_names, num_images)\n",
    "    plt.xlabel('Class')\n",
    "    plt.ylabel('Number of Images')\n",
    "    plt.title('Number of Images in Each Class')\n",
    "    plt.show()\n",
    "\n",
    "    return num_images\n",
    "\n",
    "num_images = make_hist_get_max(data_path)"
   ]
  },
  {
   "cell_type": "markdown",
   "metadata": {},
   "source": [
    "Yikes! That's a pretty big class imbalance--there are almost 5,000 wasp images and less than 1,000 other non-insect images. Large class imbalances tend to make models biased towards the majority class. This is likely why Kevin's model was predicting everything as wasps. Let's try to fix this!\n",
    "\n",
    "Part of the issue with imbalanced data is that the algorithm can do fairly well by never predicting the rare class(es).\n",
    "\n",
    "As an example, let's imagine we are looking at a rare disease. If only 5% of the data are from the disease state, a model can be 95% accurate by never predicting disease. That 95% accuracy sounds good, but the model is useless!\n",
    "\n",
    "## A note about class imbalance and the bees vs wasps dataset\n",
    "\n",
    "One important point is that class imbalance can arise from several causes. In the case with our bee and wasp data, the fundamental issue is more of a data quality and collection issue. The real answer to solving the problem has more to do with rethinking the data:\n",
    "\n",
    "* Do the categories really make sense? Probably not--the non-insect category is not very helpful in this case and probably causes more issues than it solves. \n",
    "* Can better data solve the problem? Most likely--we can get more images of bees and other insects.\n",
    "* Are the images we have *quality images*? In many cases, no--many images would be impossible for a human to identify! We have no choice but to trust the labels.\n",
    "\n",
    "Data quality is critical, though not something we will tackle here. Our hyperparameter tuning, stratification, and class weighting will only do so much to improve the results.\n",
    "\n",
    "But, in many cases, class imbalance is an intrinsic part of the data. Rare diseases are a classic example of this. If a disease has an incidence of only 1%, training data for that class will be limited. In these cases, the tools we will cover may be more critical.\n"
   ]
  },
  {
   "cell_type": "markdown",
   "metadata": {},
   "source": [
    "## 3. Stratification\n",
    "\n",
    "The first method we will implement is stratification. Stratification ensures that when our dataset is split into training and validation sets, the class frequencies match the frequencies of the original data. This may not seem like a big issue with our dataset, but as we will see, it does help a lot! Ensuring that training and validation class frequencies are the same is important.\n",
    "\n",
    "Let's try this out. We'll use the `train_test_split` function from `sklearn` to split the data into training and validation sets. We'll set the `stratify` parameter to the labels so that the function samples in a stratified manner.\n",
    "\n",
    "We will pass `show_pictures=False` to skip that.\n",
    "\n",
    "You can look in the [`helpers_01.py`](helpers_01.py) file for the full code, but the code for stratifying is here:\n",
    "\n",
    "```python\n",
    " if stratify:  # Use sklearn's train_test_split function to split the data\n",
    "        # into training and testing sets\n",
    "        # Split the data in a stratified manner\n",
    "        X_train, X_val, y_train, y_val = train_test_split(\n",
    "            images, labels, test_size=0.2, stratify=labels\n",
    "        )\n",
    "    else:\n",
    "        # Split the data randomly\n",
    "        X_train, X_val, y_train, y_val = train_test_split(images, labels, test_size=0.2)\n",
    "```\n"
   ]
  },
  {
   "cell_type": "code",
   "execution_count": 4,
   "metadata": {
    "tags": []
   },
   "outputs": [
    {
     "name": "stdout",
     "output_type": "stream",
     "text": [
      "******************************************************************\n",
      "Load data:\n",
      "  - Loading the dataset from: data/bee_vs_wasp.\n",
      "  - Using a batch size of: 32.\n",
      "  - Resizing input images to: (80, 80, 3).\n",
      "  - Stratify when sampling? True\n",
      "  - Returning class counts for later use? False\n",
      "******************************************************************\n",
      "\n",
      "For the full dataset:\n",
      "Number of wasp images: 4943, or 43.3%\n",
      "Number of other_insect images: 2439, or 21.4%\n",
      "Number of bee images: 3184, or 27.9%\n",
      "Number of other_noinsect images: 856, or 7.5%\n",
      "Found 9136 validated image filenames belonging to 4 classes.\n",
      "Found 2285 validated image filenames belonging to 4 classes.\n",
      "\n",
      "For the training dataset:\n",
      "Number of wasp images: 3954, or 43.3%\n",
      "Number of other_insect images: 1951, or 21.4%\n",
      "Number of bee images: 2547, or 27.9%\n",
      "Number of other_noinsect images: 685, or 7.5%\n"
     ]
    },
    {
     "name": "stderr",
     "output_type": "stream",
     "text": [
      "/apps/tensorflow/2.7.0/lib/python3.9/site-packages/keras_preprocessing/image/dataframe_iterator.py:279: UserWarning: Found 1 invalid image filename(s) in x_col=\"image\". These filename(s) will be ignored.\n",
      "  warnings.warn(\n"
     ]
    }
   ],
   "source": [
    "# Load the data, this updated function changes the code to accommodate stratification\n",
    "# and using class weights. Checkout the file if you want.\n",
    "data_train, data_valid = helpers_01.load_display_data(data_path, batch_size=32, shape=(80,80,3), show_pictures=False, stratify=True)"
   ]
  },
  {
   "cell_type": "code",
   "execution_count": 5,
   "metadata": {
    "tags": []
   },
   "outputs": [
    {
     "name": "stdout",
     "output_type": "stream",
     "text": [
      "*****************************************************************\n",
      "Make model:\n",
      "  - Using the activation function: relu.\n",
      "  - Model will have 4 classes.\n",
      "  - Using a dropout rate of: 0.2.\n",
      "*****************************************************************\n",
      "Model: \"sequential\"\n",
      "_________________________________________________________________\n",
      " Layer (type)                Output Shape              Param #   \n",
      "=================================================================\n",
      " conv2d (Conv2D)             (None, 80, 80, 32)        896       \n",
      "                                                                 \n",
      " max_pooling2d (MaxPooling2D  (None, 40, 40, 32)       0         \n",
      " )                                                               \n",
      "                                                                 \n",
      " conv2d_1 (Conv2D)           (None, 40, 40, 64)        18496     \n",
      "                                                                 \n",
      " max_pooling2d_1 (MaxPooling  (None, 20, 20, 64)       0         \n",
      " 2D)                                                             \n",
      "                                                                 \n",
      " dropout (Dropout)           (None, 20, 20, 64)        0         \n",
      "                                                                 \n",
      " conv2d_2 (Conv2D)           (None, 20, 20, 128)       73856     \n",
      "                                                                 \n",
      " max_pooling2d_2 (MaxPooling  (None, 10, 10, 128)      0         \n",
      " 2D)                                                             \n",
      "                                                                 \n",
      " dropout_1 (Dropout)         (None, 10, 10, 128)       0         \n",
      "                                                                 \n",
      " flatten (Flatten)           (None, 12800)             0         \n",
      "                                                                 \n",
      " dense (Dense)               (None, 128)               1638528   \n",
      "                                                                 \n",
      " dense_1 (Dense)             (None, 4)                 516       \n",
      "                                                                 \n",
      "=================================================================\n",
      "Total params: 1,732,292\n",
      "Trainable params: 1,732,292\n",
      "Non-trainable params: 0\n",
      "_________________________________________________________________\n"
     ]
    },
    {
     "name": "stderr",
     "output_type": "stream",
     "text": [
      "2024-10-03 14:24:17.519110: I tensorflow/core/platform/cpu_feature_guard.cc:151] This TensorFlow binary is optimized with oneAPI Deep Neural Network Library (oneDNN) to use the following CPU instructions in performance-critical operations:  SSE4.1 SSE4.2 AVX AVX2 FMA\n",
      "To enable them in other operations, rebuild TensorFlow with the appropriate compiler flags.\n",
      "2024-10-03 14:24:18.348244: I tensorflow/core/common_runtime/gpu/gpu_device.cc:1525] Created device /job:localhost/replica:0/task:0/device:GPU:0 with 78902 MB memory:  -> device: 0, name: NVIDIA A100-SXM4-80GB, pci bus id: 0000:07:00.0, compute capability: 8.0\n"
     ]
    }
   ],
   "source": [
    "# This is the same model we had at the end of notebook 01_bees_vs_wasps.ipynb\n",
    "# The model summary is shown, but model definition code is now moved to the \n",
    "# helpers_02_1.py file.\n",
    "\n",
    "model = helpers_01.make_model()\n",
    "model.summary()"
   ]
  },
  {
   "cell_type": "code",
   "execution_count": 6,
   "metadata": {
    "tags": []
   },
   "outputs": [
    {
     "name": "stdout",
     "output_type": "stream",
     "text": [
      "******************************************************************\n",
      "Compile and Train the model:\n",
      "  - Using the loss function: categorical_crossentropy.\n",
      "  - Using the optimizer: Adam.\n",
      "  - Using learning rate of: 0.0001.\n",
      "  - Running for 10 epochs.\n",
      "  - Using class weights: {0: 1, 1: 1, 2: 1, 3: 1}.\n",
      "  - Using these callbacks: [].\n",
      "******************************************************************\n",
      "Epoch 1/10\n"
     ]
    },
    {
     "name": "stderr",
     "output_type": "stream",
     "text": [
      "2024-10-03 14:24:20.275629: I tensorflow/stream_executor/cuda/cuda_dnn.cc:366] Loaded cuDNN version 8201\n",
      "2024-10-03 14:24:21.812933: I tensorflow/stream_executor/cuda/cuda_blas.cc:1774] TensorFloat-32 will be used for the matrix multiplication. This will only be logged once.\n"
     ]
    },
    {
     "name": "stdout",
     "output_type": "stream",
     "text": [
      "286/286 [==============================] - 51s 169ms/step - loss: 1.0382 - accuracy: 0.5629 - val_loss: 0.9086 - val_accuracy: 0.6389\n",
      "Epoch 2/10\n",
      "286/286 [==============================] - 32s 112ms/step - loss: 0.8289 - accuracy: 0.6697 - val_loss: 0.7802 - val_accuracy: 0.6937\n",
      "Epoch 3/10\n",
      "286/286 [==============================] - 32s 112ms/step - loss: 0.7629 - accuracy: 0.6933 - val_loss: 0.7600 - val_accuracy: 0.7007\n",
      "Epoch 4/10\n",
      "286/286 [==============================] - 32s 112ms/step - loss: 0.7119 - accuracy: 0.7169 - val_loss: 0.6906 - val_accuracy: 0.7274\n",
      "Epoch 5/10\n",
      "286/286 [==============================] - 32s 112ms/step - loss: 0.6848 - accuracy: 0.7310 - val_loss: 0.6671 - val_accuracy: 0.7322\n",
      "Epoch 6/10\n",
      "286/286 [==============================] - 32s 112ms/step - loss: 0.6469 - accuracy: 0.7513 - val_loss: 0.6598 - val_accuracy: 0.7352\n",
      "Epoch 7/10\n",
      "286/286 [==============================] - 32s 112ms/step - loss: 0.6269 - accuracy: 0.7569 - val_loss: 0.6266 - val_accuracy: 0.7567\n",
      "Epoch 8/10\n",
      "286/286 [==============================] - 32s 112ms/step - loss: 0.6017 - accuracy: 0.7662 - val_loss: 0.6253 - val_accuracy: 0.7584\n",
      "Epoch 9/10\n",
      "191/286 [===================>..........] - ETA: 8s - loss: 0.5797 - accuracy: 0.7750Unexpected exception formatting exception. Falling back to standard exception\n"
     ]
    },
    {
     "name": "stderr",
     "output_type": "stream",
     "text": [
      "Traceback (most recent call last):\n",
      "  File \"/apps/tensorflow/2.7.0/lib/python3.9/site-packages/IPython/core/interactiveshell.py\", line 3369, in run_code\n",
      "    exec(code_obj, self.user_global_ns, self.user_ns)\n",
      "  File \"/scratch/local/46175783/ipykernel_2227093/3143685394.py\", line 5, in <cell line: 5>\n",
      "    model, history = helpers_01.compile_train_model(data_train, data_valid, model,\n",
      "  File \"/blue/ufhpc/magitz/PracticumAI/computer_vision/helpers_01.py\", line 396, in compile_train_model\n",
      "  File \"/apps/tensorflow/2.7.0/lib/python3.9/site-packages/keras/utils/traceback_utils.py\", line 64, in error_handler\n",
      "    return fn(*args, **kwargs)\n",
      "  File \"/apps/tensorflow/2.7.0/lib/python3.9/site-packages/keras/engine/training.py\", line 1216, in fit\n",
      "    tmp_logs = self.train_function(iterator)\n",
      "  File \"/apps/tensorflow/2.7.0/lib/python3.9/site-packages/tensorflow/python/util/traceback_utils.py\", line 150, in error_handler\n",
      "    return fn(*args, **kwargs)\n",
      "  File \"/apps/tensorflow/2.7.0/lib/python3.9/site-packages/tensorflow/python/eager/def_function.py\", line 910, in __call__\n",
      "    result = self._call(*args, **kwds)\n",
      "  File \"/apps/tensorflow/2.7.0/lib/python3.9/site-packages/tensorflow/python/eager/def_function.py\", line 942, in _call\n",
      "    return self._stateless_fn(*args, **kwds)  # pylint: disable=not-callable\n",
      "  File \"/apps/tensorflow/2.7.0/lib/python3.9/site-packages/tensorflow/python/eager/function.py\", line 3130, in __call__\n",
      "    return graph_function._call_flat(\n",
      "  File \"/apps/tensorflow/2.7.0/lib/python3.9/site-packages/tensorflow/python/eager/function.py\", line 1959, in _call_flat\n",
      "    return self._build_call_outputs(self._inference_function.call(\n",
      "  File \"/apps/tensorflow/2.7.0/lib/python3.9/site-packages/tensorflow/python/eager/function.py\", line 598, in call\n",
      "    outputs = execute.execute(\n",
      "  File \"/apps/tensorflow/2.7.0/lib/python3.9/site-packages/tensorflow/python/eager/execute.py\", line 58, in quick_execute\n",
      "    tensors = pywrap_tfe.TFE_Py_Execute(ctx._handle, device_name, op_name,\n",
      "KeyboardInterrupt\n",
      "\n",
      "During handling of the above exception, another exception occurred:\n",
      "\n",
      "Traceback (most recent call last):\n",
      "  File \"/apps/tensorflow/2.7.0/lib/python3.9/site-packages/IPython/core/interactiveshell.py\", line 1982, in showtraceback\n",
      "    stb = self.InteractiveTB.structured_traceback(\n",
      "  File \"/apps/tensorflow/2.7.0/lib/python3.9/site-packages/IPython/core/ultratb.py\", line 1118, in structured_traceback\n",
      "    return FormattedTB.structured_traceback(\n",
      "  File \"/apps/tensorflow/2.7.0/lib/python3.9/site-packages/IPython/core/ultratb.py\", line 1012, in structured_traceback\n",
      "    return VerboseTB.structured_traceback(\n",
      "  File \"/apps/tensorflow/2.7.0/lib/python3.9/site-packages/IPython/core/ultratb.py\", line 865, in structured_traceback\n",
      "    formatted_exception = self.format_exception_as_a_whole(etype, evalue, etb, number_of_lines_of_context,\n",
      "  File \"/apps/tensorflow/2.7.0/lib/python3.9/site-packages/IPython/core/ultratb.py\", line 818, in format_exception_as_a_whole\n",
      "    frames.append(self.format_record(r))\n",
      "  File \"/apps/tensorflow/2.7.0/lib/python3.9/site-packages/IPython/core/ultratb.py\", line 736, in format_record\n",
      "    result += ''.join(_format_traceback_lines(frame_info.lines, Colors, self.has_colors, lvals))\n",
      "  File \"/apps/tensorflow/2.7.0/lib/python3.9/site-packages/stack_data/utils.py\", line 145, in cached_property_wrapper\n",
      "    value = obj.__dict__[self.func.__name__] = self.func(obj)\n",
      "  File \"/apps/tensorflow/2.7.0/lib/python3.9/site-packages/stack_data/core.py\", line 698, in lines\n",
      "    pieces = self.included_pieces\n",
      "  File \"/apps/tensorflow/2.7.0/lib/python3.9/site-packages/stack_data/utils.py\", line 145, in cached_property_wrapper\n",
      "    value = obj.__dict__[self.func.__name__] = self.func(obj)\n",
      "  File \"/apps/tensorflow/2.7.0/lib/python3.9/site-packages/stack_data/core.py\", line 649, in included_pieces\n",
      "    pos = scope_pieces.index(self.executing_piece)\n",
      "  File \"/apps/tensorflow/2.7.0/lib/python3.9/site-packages/stack_data/utils.py\", line 145, in cached_property_wrapper\n",
      "    value = obj.__dict__[self.func.__name__] = self.func(obj)\n",
      "  File \"/apps/tensorflow/2.7.0/lib/python3.9/site-packages/stack_data/core.py\", line 628, in executing_piece\n",
      "    return only(\n",
      "  File \"/apps/tensorflow/2.7.0/lib/python3.9/site-packages/executing/executing.py\", line 164, in only\n",
      "    raise NotOneValueFound('Expected one value, found 0')\n",
      "executing.executing.NotOneValueFound: Expected one value, found 0\n"
     ]
    }
   ],
   "source": [
    "# compile and train the model\n",
    "# Due to change in dataset format, we change to categorical_crossentropy loss. \n",
    "# This is the same loss function except in the format of the labels\n",
    "\n",
    "model, history = helpers_01.compile_train_model(data_train, data_valid, model, \n",
    "                        log_name='stratify', loss='categorical_crossentropy')"
   ]
  },
  {
   "cell_type": "code",
   "execution_count": null,
   "metadata": {
    "tags": []
   },
   "outputs": [],
   "source": [
    "# Evaluate the model\n",
    "helpers_01.evaluate_model(data_valid, model, history)"
   ]
  },
  {
   "cell_type": "markdown",
   "metadata": {},
   "source": [
    "## 4. Class weighting\n",
    "\n",
    "The next method we will implement is class weighting. As Thakur & Gosthipaty write:\n",
    "> One of the easiest ways to counter class imbalance is to use class weights wherein we give different weightage to different classes. The number of samples in the classes is considered while computing the class weights. We apply more significant weight to a minority class, which places more emphasis on that class. The classifier thus learns equally from both the classes. [Their example had only two classes]\n",
    ">\n",
    "> Class weights regularize the loss function. By misclassifying the minority class, a higher loss is incurred by the model since the minority class has a higher weight. This forces the model to learn representations for the minority class. This, however, comes at a price of slightly reduced performance for the majority class.\n",
    "\n",
    "Note that they were dealing with two classes; here, we have four. Our code will handle datasets with different numbers of classes.\n",
    "\n"
   ]
  },
  {
   "cell_type": "code",
   "execution_count": null,
   "metadata": {
    "tags": []
   },
   "outputs": [],
   "source": [
    "data_train, data_valid, cls_counts = helpers_01.load_display_data(data_path, \n",
    "                batch_size=32, shape=(80,80,3), show_pictures=False, \n",
    "                stratify=True, return_cls_counts=True)"
   ]
  },
  {
   "cell_type": "markdown",
   "metadata": {
    "tags": []
   },
   "source": [
    "## 5. Make our model\n",
    "We'll make a fresh model to test out our class weighting method. The architecture will be the same as the previous CNNs we've made with a few DropOut layers to help prevent overfitting. The code for the model is in the `helpers_02_1.py` file to keep this notebook clean.\n",
    "\n",
    "One reason to create a fresh model is that we need to clear the session to ensure that the model is created from scratch. If we don't do this, the model will be created with the weights from the previous model. This is not what we want! There are other ways to handle this, but this is way is pretty simple.\n"
   ]
  },
  {
   "cell_type": "code",
   "execution_count": null,
   "metadata": {
    "tags": []
   },
   "outputs": [],
   "source": [
    "# Make the model\n",
    "\n",
    "model = helpers_01.make_model()\n",
    "model.summary()"
   ]
  },
  {
   "cell_type": "markdown",
   "metadata": {},
   "source": [
    "## 6. Compile and train the model\n",
    "\n",
    "This time we will have both stratification and class weighting turned on. Finger's crossed that this will help our model with its wasp obsession!"
   ]
  },
  {
   "cell_type": "code",
   "execution_count": null,
   "metadata": {
    "tags": []
   },
   "outputs": [],
   "source": [
    "\n",
    "model, history = helpers_01.compile_train_model(data_train, data_valid, model,\n",
    "                        weights=cls_counts, log_name='weights',\n",
    "                        loss='categorical_crossentropy')"
   ]
  },
  {
   "cell_type": "markdown",
   "metadata": {
    "tags": []
   },
   "source": [
    "## 7. Evaluate the model\n",
    "\n",
    "Now that we have trained our model, let's evaluate how it performs compared to the previous model that only used stratification.\n"
   ]
  },
  {
   "cell_type": "code",
   "execution_count": null,
   "metadata": {
    "tags": []
   },
   "outputs": [],
   "source": [
    "helpers_01.evaluate_model(data_valid, model, history)"
   ]
  },
  {
   "cell_type": "markdown",
   "metadata": {},
   "source": [
    "## 8. Conclusion\n",
    "\n",
    "From the evaluation data above, stratification alone was more helpful than stratification and class weighting combined. Of note, in both scenarios training and validation accuracy we both improving together. This is a good sign that the model is learning and not just memorizing the training data. When a model is still showing improvement in both training and validation, a simple thing to try is to train it for more epochs.\n",
    "\n",
    "In addition to training for more epochs, what else could we do to improve the model? If you have time, experiment with different hyperparameters!\n"
   ]
  }
 ],
 "metadata": {
  "kernelspec": {
   "display_name": "Tensorflow-2.7.0",
   "language": "python",
   "name": "tensorflow-2.7.0"
  },
  "language_info": {
   "codemirror_mode": {
    "name": "ipython",
    "version": 3
   },
   "file_extension": ".py",
   "mimetype": "text/x-python",
   "name": "python",
   "nbconvert_exporter": "python",
   "pygments_lexer": "ipython3",
   "version": "3.9.12"
  }
 },
 "nbformat": 4,
 "nbformat_minor": 4
}

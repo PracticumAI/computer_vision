{
 "cells": [
  {
   "cell_type": "markdown",
   "id": "45742e07",
   "metadata": {},
   "source": [
    "# Image selector\n",
    "\n",
    "This notebook goes through the images in a folder, displays the image and asks is the user wants to keep it or not. If the user does want to keep it, the image is copied to a new folder that collects the kept images, if not nothing is done. After each selection, the next image is displayed. "
   ]
  },
  {
   "cell_type": "code",
   "execution_count": 9,
   "id": "cc039901",
   "metadata": {},
   "outputs": [],
   "source": [
    "# This notebook goes through the images in a folder, displays the image \n",
    "# and asks is the user wants to keep it or not. \n",
    "# If the user does want to keep it, the image is copied to a new folder \n",
    "# that collects the kept images, if not nothing is done. \n",
    "# After each selection, the next image is displayed. "
   ]
  },
  {
   "cell_type": "code",
   "execution_count": 20,
   "id": "472483b6-1ba1-4394-a148-57f28e8ce58f",
   "metadata": {
    "tags": []
   },
   "outputs": [],
   "source": [
    "import os\n",
    "from pathlib import Path\n",
    "\n",
    "import shutil\n",
    "from PIL import Image\n",
    "import matplotlib.pyplot as plt\n",
    "from IPython.display import display, clear_output"
   ]
  },
  {
   "cell_type": "code",
   "execution_count": 24,
   "id": "86282e7f",
   "metadata": {
    "tags": []
   },
   "outputs": [],
   "source": [
    "#category = 'bee'\n",
    "category = 'wasp'\n",
    "# category = 'other_insect'\n",
    "# category = 'other_noinsect'\n",
    "\n",
    "raw_data_path = Path('data/bee_vs_wasp/')\n",
    "filtered_data_path = Path('data/bee_vs_wasp_reduced/')\n",
    "\n",
    "folder = raw_data_path / category\n",
    "keep_images_folder = filtered_data_path / category\n"
   ]
  },
  {
   "cell_type": "code",
   "execution_count": 25,
   "id": "54a637fe-eba2-4b0f-93ef-75310c0c0bb2",
   "metadata": {
    "tags": []
   },
   "outputs": [
    {
     "name": "stdout",
     "output_type": "stream",
     "text": [
      "data/bee_vs_wasp_reduced/wasp already has 252 files.\n",
      "Image selection will start after data/bee_vs_wasp_reduced/wasp/W00510.jpg.\n",
      "Delete the folder if you want to start from scratch.\n"
     ]
    }
   ],
   "source": [
    "# Check if filtered path exists\n",
    "\n",
    "if keep_images_folder.exists():\n",
    "    num_files = sum(1 for f in keep_images_folder.iterdir() if f.is_file())\n",
    "    last_file = sorted(keep_images_folder.iterdir())[-1]\n",
    "    \n",
    "    print(f\"{keep_images_folder} already has {num_files} files.\")\n",
    "    print(f\"Image selection will start after {last_file}.\")\n",
    "    print(\"Delete the folder if you want to start from scratch.\")\n",
    "else:\n",
    "    # Create the keep_images_folder if it doesn't exist\n",
    "    os.makedirs(keep_images_folder, exist_ok=True) \n",
    "                "
   ]
  },
  {
   "cell_type": "code",
   "execution_count": 26,
   "id": "f390cf2b",
   "metadata": {
    "tags": []
   },
   "outputs": [
    {
     "name": "stdout",
     "output_type": "stream",
     "text": [
      "Image 4943 of 4943: data/bee_vs_wasp/wasp/image.png\n"
     ]
    },
    {
     "data": {
      "image/png": "[encoded data removed]",
      "text/plain": [
       "<Figure size 800x600 with 1 Axes>"
      ]
     },
     "metadata": {},
     "output_type": "display_data"
    },
    {
     "name": "stdin",
     "output_type": "stream",
     "text": [
      "Keep this image? (y/n) or 'q' to quit:  n\n"
     ]
    },
    {
     "name": "stdout",
     "output_type": "stream",
     "text": [
      "✗ Skipped: image.png\n"
     ]
    }
   ],
   "source": [
    "\n",
    "# Get list of image files\n",
    "image_extensions = ['.jpg', '.jpeg', '.png', '.bmp', '.gif', '.tiff']\n",
    "image_files = [f for f in sorted(folder.iterdir()) if f.is_file() and f.suffix in image_extensions]\n",
    "\n",
    "print(f\"Found {len(image_files)} images in {raw_data_path}\")\n",
    "\n",
    "# Function to display image and get user choice\n",
    "def process_images(start_after):\n",
    "\n",
    "    start_file_reached=False\n",
    "    \n",
    "    for i, filename in enumerate(image_files):\n",
    "        if not start_file_reached:\n",
    "            if filename.name == start_after.name:\n",
    "                print(f\"Starting processing after {start_after}\")\n",
    "                start_file_reached=True\n",
    "            else:\n",
    "                continue\n",
    "        else:\n",
    "        \n",
    "            clear_output(wait=True)\n",
    "\n",
    "            # Display current progress\n",
    "            print(f\"Image {i+1} of {len(image_files)}: {filename}\")\n",
    "\n",
    "            # Load and display the image\n",
    "            img = Image.open(filename)\n",
    "\n",
    "            plt.figure(figsize=(8, 6))\n",
    "            plt.imshow(img)\n",
    "            plt.title(f\"Image: {filename.name}\")\n",
    "            plt.axis('off')\n",
    "            plt.show()\n",
    "\n",
    "            # Ask user for decision\n",
    "            while True:\n",
    "                choice = input(\"Keep this image? (y/n) or 'q' to quit: \").lower().strip()\n",
    "                if choice in ['y', 'yes']:\n",
    "                    # Copy image to keep folder\n",
    "                    dest_path = filtered_data_path / filename.name\n",
    "                    shutil.copy2(filename, dest_path)\n",
    "                    print(f\"✓ Kept: {filename.name}\")\n",
    "                    break\n",
    "                elif choice in ['n', 'no']:\n",
    "                    print(f\"✗ Skipped: {filename.name}\")\n",
    "                    break\n",
    "                elif choice == 'q':\n",
    "                    print(\"Quitting...\")\n",
    "                    return\n",
    "                else:\n",
    "                    print(\"Please enter 'y' for yes, 'n' for no, or 'q' to quit\")\n",
    "\n",
    "\n",
    "# Start processing\n",
    "process_images(last_file)"
   ]
  },
  {
   "cell_type": "code",
   "execution_count": null,
   "id": "ec595222-ae0b-4cac-a304-c40e7ba849a1",
   "metadata": {},
   "outputs": [],
   "source": []
  },
  {
   "cell_type": "code",
   "execution_count": null,
   "id": "f453d6f3-0e62-473b-ad6b-1f7ec3e3219c",
   "metadata": {},
   "outputs": [],
   "source": []
  }
 ],
 "metadata": {
  "kernelspec": {
   "display_name": "PracticumAI Pytorch",
   "language": "python",
   "name": "practicumai_pytorch"
  },
  "language_info": {
   "codemirror_mode": {
    "name": "ipython",
    "version": 3
   },
   "file_extension": ".py",
   "mimetype": "text/x-python",
   "name": "python",
   "nbconvert_exporter": "python",
   "pygments_lexer": "ipython3",
   "version": "3.13.2"
  }
 },
 "nbformat": 4,
 "nbformat_minor": 5
}
